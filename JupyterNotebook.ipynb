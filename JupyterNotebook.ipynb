{
 "cells": [
  {
   "cell_type": "markdown",
   "id": "8fbf975e",
   "metadata": {},
   "source": [
    "# Jupyter Notebook / Jupyter Lab useful shortcuts\n",
    "\n",
    "### Cell related shortcuts\n",
    "\n",
    "- Enter edit mode in a selected cell: **Enter**\n",
    "- Exit edit mode on a cell: **Esc** \n",
    "- Turn code to Markdown: **M**, but you first have to quit the edit mode\n",
    "- Run a cell and go to next cell: **Shift** + **Enter**\n",
    "- Run a cell and remain on the same cell: **Ctrl** + **Enter**\n",
    "\n",
    "### Python related shortcuts\n",
    "\n",
    "- Show the signature of a function: **Shift** + **tab**\n",
    "- Show the signature of a function along with description: double press **Shift** + **tab**\n",
    "- Completion suggestions: **tab** , *Note*: if writting at the start of a line, it will work as regular tab\n",
    "- Select a cell and while pressing **Shift** use the **up** or **down arrow** to select upper or lower cells.\n",
    "- Merge selected cells: **Shift** + **M**"
   ]
  },
  {
   "cell_type": "markdown",
   "id": "b604a141",
   "metadata": {},
   "source": [
    "- Show the docs of a method, function, or a class: **?** + **name**"
   ]
  },
  {
   "cell_type": "code",
   "execution_count": 20,
   "id": "3634f01d",
   "metadata": {},
   "outputs": [],
   "source": [
    "?print"
   ]
  },
  {
   "cell_type": "markdown",
   "id": "8ce20271",
   "metadata": {},
   "source": [
    "- Show the docs of a method, function, or a class and the source code: **??** + **name** "
   ]
  },
  {
   "cell_type": "code",
   "execution_count": 21,
   "id": "e73fca67",
   "metadata": {},
   "outputs": [],
   "source": [
    "??print"
   ]
  }
 ],
 "metadata": {
  "kernelspec": {
   "display_name": "Python 3 (ipykernel)",
   "language": "python",
   "name": "python3"
  },
  "language_info": {
   "codemirror_mode": {
    "name": "ipython",
    "version": 3
   },
   "file_extension": ".py",
   "mimetype": "text/x-python",
   "name": "python",
   "nbconvert_exporter": "python",
   "pygments_lexer": "ipython3",
   "version": "3.10.12"
  }
 },
 "nbformat": 4,
 "nbformat_minor": 5
}
