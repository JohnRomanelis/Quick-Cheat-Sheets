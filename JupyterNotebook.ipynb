{
 "cells": [
  {
   "cell_type": "markdown",
   "id": "8fbf975e",
   "metadata": {},
   "source": [
    "# Jupyter Notebook / Jupyter Lab useful shortcuts\n",
    "\n",
    "### Cell related shortcuts\n",
    "\n",
    "- Enter edit mode in a selected cell: **Enter**\n",
    "- Exit edit mode on a cell: **Esc** \n",
    "- Turn code to Markdown: **M**, but you first have to quit the edit mode\n",
    "- Run a cell and go to next cell: **Shift** + **Enter**\n",
    "- Run a cell and remain on the same cell: **Ctrl** + **Enter**\n",
    "\n",
    "### Python related shortcuts\n",
    "\n",
    "- Show the signature of a function: **Shift** + **tab**\n",
    "- Show the signature of a function along with description: double press **Shift** + **tab**\n",
    "- Completion suggestions: **tab** , *Note*: if writting at the start of a line, it will work as regular tab\n",
    "- Select a cell and while pressing **Shift** use the **up** or **down arrow** to select upper or lower cells.\n",
    "- Merge selected cells: **Shift** + **M**"
   ]
  },
  {
   "cell_type": "markdown",
   "id": "b604a141",
   "metadata": {},
   "source": [
    "- Show the docs of a method, function, or a class: **?** + **name**"
   ]
  },
  {
   "cell_type": "code",
   "execution_count": 20,
   "id": "3634f01d",
   "metadata": {},
   "outputs": [],
   "source": [
    "?print"
   ]
  },
  {
   "cell_type": "markdown",
   "id": "8ce20271",
   "metadata": {},
   "source": [
    "- Show the docs of a method, function, or a class and the source code: **??** + **name** "
   ]
  },
  {
   "cell_type": "code",
   "execution_count": 21,
   "id": "e73fca67",
   "metadata": {},
   "outputs": [],
   "source": [
    "??print"
   ]
  },
  {
   "cell_type": "markdown",
   "id": "e5debf27",
   "metadata": {},
   "source": [
    "# Conversion from notebook to script\n",
    "\n",
    "### Using jupyter notebook interface\n",
    "\n",
    " * Open the notebook in Jupyter Notebook or JupyterLab\n",
    " * Go to `File` menu\n",
    " * Select `Download as` > `Python (.py)`\n",
    " * This will download the notebook as a `.py` file, which will contain all the code cells and (in comments) any Markdown content.\n",
    "\n",
    "### Using Jupyter nbconvert in the Command Line (preferred)\n",
    "\n",
    " Run the following `nbconvert` command in the command line:\n",
    " `jupyter nbconvert --to script your_notebook.ipynb`\n",
    " This will create a `.py` file with the same name as your notebook.\n",
    "\n",
    "`nbconvert` is included by default when you install Jupyter Notebook, so you shouldn't need to download it separately. It comes as part of the Jupyter suite, which includes the core tools like `notebook`, `nbformat` and `nbconvert`. \n",
    "\n",
    "However, if you do run into an error where `nbconvert` is not recognized (say, if tcertain dependencies were somehow missed during the installation), you can install it explicitly using:\n",
    "\n",
    "`pip install nbconvert`\n",
    "\n",
    "### Using nbformat in Python\n",
    "\n",
    "If you prefer to automate this in a Python script, you can use the `nbformat` library to read the notebook and write it as a `.py` file:\n",
    "\n",
    "```python\n",
    "    import nbformat\n",
    "    from nbconvert import PythonExporter\n",
    "\n",
    "    with open(\"your_notebook.ipynb\") as f:\n",
    "        notebook = nbformat.read(f, as_version=4)\n",
    "\n",
    "    exporter = PythonExporter()\n",
    "    source, _ = exporter.from_notebook_node(notebook)\n",
    "\n",
    "    with open(\"your_script.py\", \"w\") as f:\n",
    "        f.write(source)\n",
    "```\n",
    "\n",
    "This approach is useful if you're working within Python and want to programmatically handle notebook files. Each method will give you a `.py` file with code and any Markdown cells as comments."
   ]
  }
 ],
 "metadata": {
  "kernelspec": {
   "display_name": "Python 3 (ipykernel)",
   "language": "python",
   "name": "python3"
  },
  "language_info": {
   "codemirror_mode": {
    "name": "ipython",
    "version": 3
   },
   "file_extension": ".py",
   "mimetype": "text/x-python",
   "name": "python",
   "nbconvert_exporter": "python",
   "pygments_lexer": "ipython3",
   "version": "3.10.12"
  }
 },
 "nbformat": 4,
 "nbformat_minor": 5
}
